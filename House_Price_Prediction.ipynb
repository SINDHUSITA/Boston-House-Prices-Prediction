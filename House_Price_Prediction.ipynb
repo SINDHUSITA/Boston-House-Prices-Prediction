{
  "nbformat": 4,
  "nbformat_minor": 0,
  "metadata": {
    "colab": {
      "name": "House Price Prediction.ipynb",
      "provenance": [],
      "toc_visible": true,
      "authorship_tag": "ABX9TyOLkb+a7918HQ82vgIHvhFW",
      "include_colab_link": true
    },
    "kernelspec": {
      "name": "python3",
      "display_name": "Python 3"
    },
    "accelerator": "TPU"
  },
  "cells": [
    {
      "cell_type": "markdown",
      "metadata": {
        "id": "view-in-github",
        "colab_type": "text"
      },
      "source": [
        "<a href=\"https://colab.research.google.com/github/SINDHUSITA/Boston-House-Prices-Prediction/blob/master/House_Price_Prediction.ipynb\" target=\"_parent\"><img src=\"https://colab.research.google.com/assets/colab-badge.svg\" alt=\"Open In Colab\"/></a>"
      ]
    },
    {
      "cell_type": "markdown",
      "metadata": {
        "id": "VS2mZSVA_uOi",
        "colab_type": "text"
      },
      "source": [
        "**Importing basic packages**"
      ]
    },
    {
      "cell_type": "code",
      "metadata": {
        "id": "qIoP0QYf_qkT",
        "colab_type": "code",
        "colab": {}
      },
      "source": [
        "import numpy as np\n",
        "import pandas as pd\n",
        "import matplotlib.pyplot as plt"
      ],
      "execution_count": 0,
      "outputs": []
    },
    {
      "cell_type": "markdown",
      "metadata": {
        "id": "pYPq9ytpASCv",
        "colab_type": "text"
      },
      "source": [
        "**Importing Data**"
      ]
    },
    {
      "cell_type": "code",
      "metadata": {
        "id": "oZiyqnWlAXyA",
        "colab_type": "code",
        "outputId": "e98aa280-22ba-4af9-bf17-8f16380bae44",
        "colab": {
          "base_uri": "https://localhost:8080/",
          "height": 34
        }
      },
      "source": [
        "train = pd.read_csv('train.csv')\n",
        "test = pd.read_csv('test.csv')\n",
        "train.dtypes.unique()\n",
        "train.shape"
      ],
      "execution_count": 249,
      "outputs": [
        {
          "output_type": "execute_result",
          "data": {
            "text/plain": [
              "(1460, 81)"
            ]
          },
          "metadata": {
            "tags": []
          },
          "execution_count": 249
        }
      ]
    },
    {
      "cell_type": "markdown",
      "metadata": {
        "id": "lrXLnwhXO_lr",
        "colab_type": "text"
      },
      "source": [
        "**Feature Selection**"
      ]
    },
    {
      "cell_type": "code",
      "metadata": {
        "id": "2--Y-0HBgHmf",
        "colab_type": "code",
        "outputId": "d53c0b64-4e21-4246-b17a-78455f41e80f",
        "colab": {
          "base_uri": "https://localhost:8080/",
          "height": 51
        }
      },
      "source": [
        "corr = train.corr()\n",
        "insignif_cats = []\n",
        "count = 0 \n",
        "c=0\n",
        "print('Shape of numeric features before feature selection:',train.shape)\n",
        "for i in corr['SalePrice']:\n",
        "  if(i<0.5):\n",
        "    insignif_cats.append(corr.columns[count])\n",
        "    c+=1    \n",
        "  count+=1\n",
        "train.drop(columns=insignif_cats,inplace=True)\n",
        "print('Shape of numeric features after feature selection:',train.shape)\n",
        "test.drop(columns=insignif_cats,inplace=True)"
      ],
      "execution_count": 250,
      "outputs": [
        {
          "output_type": "stream",
          "text": [
            "Shape of numeric features before feature selection: (1460, 81)\n",
            "Shape of numeric features after feature selection: (1460, 54)\n"
          ],
          "name": "stdout"
        }
      ]
    },
    {
      "cell_type": "markdown",
      "metadata": {
        "id": "IZhz5gLID_BZ",
        "colab_type": "text"
      },
      "source": [
        "**Preprocessing Numeric features**"
      ]
    },
    {
      "cell_type": "code",
      "metadata": {
        "id": "dj0a7wZ1EhFw",
        "colab_type": "code",
        "outputId": "192e07cc-d372-4198-8703-3b89faf06134",
        "colab": {
          "base_uri": "https://localhost:8080/",
          "height": 442
        }
      },
      "source": [
        "#obtaining numeric features (int64 and float64)\n",
        "train_float = train.loc[:,train.dtypes == np.float64]\n",
        "train_int=(train.loc[:,train.dtypes == np.int64])\n",
        "train_num=pd.concat([train_float,train_int],axis=1,ignore_index=False)\n",
        "\n",
        "#obtaining numeric features (int64 and float64) for test data\n",
        "test_float = test.loc[:,test.dtypes == np.float64]\n",
        "test_int=(test.loc[:,test.dtypes == np.int64])\n",
        "test_num=pd.concat([test_float,test_int],axis=1,ignore_index=False)\n",
        "\n",
        "#handling missing data in numeric columns \n",
        "print(train_num.shape)\n",
        "nulls = pd.DataFrame(train_num.isnull().sum().sort_values(ascending=False).head())\n",
        "print(\"Null count in each column initially: \",nulls)\n",
        "train_num = train_num.interpolate(method='linear', limit_direction='forward', axis=0)\n",
        "nulls = pd.DataFrame(train_num.isnull().sum().sort_values(ascending=False).head())\n",
        "print(\"Null count in each column after handling missing data: \",nulls)\n",
        "\n",
        "#handling missing data in numeric columns for test data\n",
        "nulls = pd.DataFrame(test_num.isnull().sum().sort_values(ascending=False).head())\n",
        "print(\"Null count for each column in test data initially: \",nulls)\n",
        "test_num.dropna(inplace=True)\n",
        "nulls = pd.DataFrame(test_num.isnull().sum().sort_values(ascending=False).head())\n",
        "print(\"Null count for each column in test data later: \",nulls)"
      ],
      "execution_count": 251,
      "outputs": [
        {
          "output_type": "stream",
          "text": [
            "(1460, 11)\n",
            "Null count in each column initially:                0\n",
            "SalePrice     0\n",
            "GarageArea    0\n",
            "GarageCars    0\n",
            "TotRmsAbvGrd  0\n",
            "FullBath      0\n",
            "Null count in each column after handling missing data:                0\n",
            "SalePrice     0\n",
            "GarageArea    0\n",
            "GarageCars    0\n",
            "TotRmsAbvGrd  0\n",
            "FullBath      0\n",
            "Null count for each column in test data initially:                0\n",
            "GarageArea    1\n",
            "GarageCars    1\n",
            "TotalBsmtSF   1\n",
            "TotRmsAbvGrd  0\n",
            "FullBath      0\n",
            "Null count for each column in test data later:                0\n",
            "TotRmsAbvGrd  0\n",
            "FullBath      0\n",
            "GrLivArea     0\n",
            "1stFlrSF      0\n",
            "YearRemodAdd  0\n"
          ],
          "name": "stdout"
        }
      ]
    },
    {
      "cell_type": "markdown",
      "metadata": {
        "id": "YMd52SMGPSU8",
        "colab_type": "text"
      },
      "source": [
        "###**Preprocessing Categorical Features**"
      ]
    },
    {
      "cell_type": "markdown",
      "metadata": {
        "id": "OhgGs9Z24zcl",
        "colab_type": "text"
      },
      "source": [
        "**Handling missing data in categorical data**"
      ]
    },
    {
      "cell_type": "code",
      "metadata": {
        "id": "_8cAK6AI4zr4",
        "colab_type": "code",
        "outputId": "ec5dad4f-af8d-4048-8eb9-7861bc47a37d",
        "colab": {
          "base_uri": "https://localhost:8080/",
          "height": 221
        }
      },
      "source": [
        "#obtaining categorical features\n",
        "train_cat=train.select_dtypes(exclude=[np.int64,np.float64])\n",
        "train_cat=train_cat.astype('str')\n",
        "\n",
        "#obtaining categorical features in test data\n",
        "test_cat=test.select_dtypes(exclude=[np.int64,np.float64])\n",
        "test_cat=test_cat.astype('str')\n",
        "\n",
        "#handling missing data in categorical features in train data\n",
        "nulls = pd.DataFrame(train_cat.isnull().sum().sort_values(ascending=False).head())\n",
        "print(\"Null count in each column initially:\",nulls) #clearly there are no null values\n",
        "from sklearn.impute import SimpleImputer\n",
        "imp = SimpleImputer(strategy = 'most_frequent')\n",
        "imp.fit(train_cat)\n",
        "len(np.unique(train_cat.values))\n",
        "\n",
        "#handling missing data in categorical features in test data\n",
        "nulls = pd.DataFrame(test_cat.isnull().sum().sort_values(ascending=False).head())\n",
        "print(\"Null count in each column initially in test data:\",nulls) #clearly there are no null values"
      ],
      "execution_count": 252,
      "outputs": [
        {
          "output_type": "stream",
          "text": [
            "Null count in each column initially:                0\n",
            "SaleCondition  0\n",
            "Condition2     0\n",
            "ExterQual      0\n",
            "MasVnrType     0\n",
            "Exterior2nd    0\n",
            "Null count in each column initially in test data:                0\n",
            "SaleCondition  0\n",
            "Condition2     0\n",
            "ExterQual      0\n",
            "MasVnrType     0\n",
            "Exterior2nd    0\n"
          ],
          "name": "stdout"
        }
      ]
    },
    {
      "cell_type": "markdown",
      "metadata": {
        "id": "QdVo-bsXQYZg",
        "colab_type": "text"
      },
      "source": [
        "**Encoding Categorical data**"
      ]
    },
    {
      "cell_type": "code",
      "metadata": {
        "id": "EI89ZiZQQYrE",
        "colab_type": "code",
        "outputId": "f7713988-cd6e-4ba1-9086-14b174629b29",
        "colab": {
          "base_uri": "https://localhost:8080/",
          "height": 51
        }
      },
      "source": [
        "print('Shape of categorical features in train and test data before encoding',train_cat.shape,test_cat.shape)\n",
        "cat_cols = train_cat.columns\n",
        "temp = pd.get_dummies(pd.concat([train_cat,test_cat],keys=[0,1]), columns=cat_cols)\n",
        "# Selecting data from multi index and assigning them\n",
        "train_cat,test_cat = temp.xs(0),temp.xs(1)\n",
        "\n",
        "print('Shape of categorical features in train and test data after encoding',train_cat.shape, test_cat.shape)"
      ],
      "execution_count": 253,
      "outputs": [
        {
          "output_type": "stream",
          "text": [
            "Shape of categorical features in train and test data before encoding (1460, 43) (1459, 43)\n",
            "Shape of categorical features in train and test data after encoding (1460, 275) (1459, 275)\n"
          ],
          "name": "stdout"
        }
      ]
    },
    {
      "cell_type": "markdown",
      "metadata": {
        "id": "IQrdJR_IFNIf",
        "colab_type": "text"
      },
      "source": [
        "**Splitting Train and Test Data**"
      ]
    },
    {
      "cell_type": "code",
      "metadata": {
        "id": "k1xrRRcsOCA_",
        "colab_type": "code",
        "colab": {}
      },
      "source": [
        "#concatenating numerical and categorical features\n",
        "train_num.drop(columns='SalePrice',inplace=True)\n",
        "train_total = pd.concat([train_num,train_cat],axis=1,ignore_index=False)\n",
        "\n",
        "#concatenating numerical and categorical features in test data\n",
        "test_total = pd.concat([test_num,test_cat],axis=1,ignore_index=False)"
      ],
      "execution_count": 0,
      "outputs": []
    },
    {
      "cell_type": "code",
      "metadata": {
        "id": "DFya7kwYFNXP",
        "colab_type": "code",
        "outputId": "19d34bd5-c9c4-4bef-de9f-94dbb686b614",
        "colab": {
          "base_uri": "https://localhost:8080/",
          "height": 34
        }
      },
      "source": [
        "#Splitting as X, y\n",
        "X = train_total\n",
        "y = train['SalePrice']\n",
        "\n",
        "#Splitting train and test\n",
        "from sklearn.model_selection import train_test_split\n",
        "X_train, X_test, y_train, y_test = train_test_split(X,y,test_size=0.25,random_state=0)\n",
        "print(X_train.shape,X_test.shape,y_train.shape,y_test.shape)"
      ],
      "execution_count": 255,
      "outputs": [
        {
          "output_type": "stream",
          "text": [
            "(1095, 285) (365, 285) (1095,) (365,)\n"
          ],
          "name": "stdout"
        }
      ]
    },
    {
      "cell_type": "markdown",
      "metadata": {
        "id": "hbi1Ipl3Bx1_",
        "colab_type": "text"
      },
      "source": [
        "**Feature Scaling**"
      ]
    },
    {
      "cell_type": "code",
      "metadata": {
        "id": "KHrSfC1nByIi",
        "colab_type": "code",
        "colab": {}
      },
      "source": [
        "y_train= y_train.values.reshape(-1,1)\n",
        "y_test= y_test.values.reshape(-1,1)\n",
        "\n",
        "from sklearn.preprocessing import StandardScaler\n",
        "sc_X = StandardScaler()\n",
        "sc_y = StandardScaler()\n",
        "X_train_fs = sc_X.fit_transform(X_train)\n",
        "X_test_fs = sc_X.fit_transform(X_test)\n",
        "y_train_fs = sc_X.fit_transform(y_train)\n",
        "y_test_fs = sc_y.fit_transform(y_test)\n"
      ],
      "execution_count": 0,
      "outputs": []
    },
    {
      "cell_type": "markdown",
      "metadata": {
        "id": "xHMkBKh3q9-T",
        "colab_type": "text"
      },
      "source": [
        "##**Training the model using various algortims**"
      ]
    },
    {
      "cell_type": "markdown",
      "metadata": {
        "id": "dNFVUi1yrPMU",
        "colab_type": "text"
      },
      "source": [
        "**1. Training using Multi Linear Regression**"
      ]
    },
    {
      "cell_type": "code",
      "metadata": {
        "id": "nVL4FIZ5r84R",
        "colab_type": "code",
        "colab": {
          "base_uri": "https://localhost:8080/",
          "height": 34
        },
        "outputId": "fe22d861-c3e6-494f-954f-33ff349d941e"
      },
      "source": [
        "from sklearn.linear_model import LinearRegression\n",
        "regressor1 = LinearRegression()\n",
        "regressor1.fit(X_train,y_train)"
      ],
      "execution_count": 257,
      "outputs": [
        {
          "output_type": "execute_result",
          "data": {
            "text/plain": [
              "LinearRegression(copy_X=True, fit_intercept=True, n_jobs=None, normalize=False)"
            ]
          },
          "metadata": {
            "tags": []
          },
          "execution_count": 257
        }
      ]
    },
    {
      "cell_type": "markdown",
      "metadata": {
        "id": "9We-B0CtrSQY",
        "colab_type": "text"
      },
      "source": [
        "**2. Training using Polynomial Regression**"
      ]
    },
    {
      "cell_type": "code",
      "metadata": {
        "id": "nPUv4HKfzoLc",
        "colab_type": "code",
        "colab": {}
      },
      "source": [
        "# from sklearn.preprocessing import PolynomialFeatures\n",
        "# plr = PolynomialFeatures(degree=2)\n",
        "# X_poly = plr.fit_transform(X_train)\n",
        "# regressor2 = LinearRegression()\n",
        "# regressor2.fit(X_poly,y_train)"
      ],
      "execution_count": 0,
      "outputs": []
    },
    {
      "cell_type": "markdown",
      "metadata": {
        "id": "ncXN94_pra4r",
        "colab_type": "text"
      },
      "source": [
        "**3. Training using Decision Tree Regressor**"
      ]
    },
    {
      "cell_type": "code",
      "metadata": {
        "id": "R4nwBODi0CA0",
        "colab_type": "code",
        "colab": {
          "base_uri": "https://localhost:8080/",
          "height": 119
        },
        "outputId": "27aa2d82-46a3-4fb9-a227-b4dc543a9dd6"
      },
      "source": [
        "from sklearn.tree import DecisionTreeRegressor\n",
        "regressor3 = DecisionTreeRegressor()\n",
        "regressor3.fit(X_train,y_train)"
      ],
      "execution_count": 259,
      "outputs": [
        {
          "output_type": "execute_result",
          "data": {
            "text/plain": [
              "DecisionTreeRegressor(ccp_alpha=0.0, criterion='mse', max_depth=None,\n",
              "                      max_features=None, max_leaf_nodes=None,\n",
              "                      min_impurity_decrease=0.0, min_impurity_split=None,\n",
              "                      min_samples_leaf=1, min_samples_split=2,\n",
              "                      min_weight_fraction_leaf=0.0, presort='deprecated',\n",
              "                      random_state=None, splitter='best')"
            ]
          },
          "metadata": {
            "tags": []
          },
          "execution_count": 259
        }
      ]
    },
    {
      "cell_type": "markdown",
      "metadata": {
        "id": "cbXaUD3BrbEx",
        "colab_type": "text"
      },
      "source": [
        "**4. Training using Random Forest Regressor**"
      ]
    },
    {
      "cell_type": "code",
      "metadata": {
        "id": "wltkud9o0Cve",
        "colab_type": "code",
        "colab": {
          "base_uri": "https://localhost:8080/",
          "height": 190
        },
        "outputId": "d3d94d1d-39c3-4ecf-94f4-d8549c57d5bb"
      },
      "source": [
        "from sklearn.ensemble import RandomForestRegressor\n",
        "regressor4 = RandomForestRegressor(n_estimators=10,random_state=1)\n",
        "regressor4.fit(X_train,y_train)"
      ],
      "execution_count": 260,
      "outputs": [
        {
          "output_type": "stream",
          "text": [
            "/usr/local/lib/python3.6/dist-packages/ipykernel_launcher.py:3: DataConversionWarning: A column-vector y was passed when a 1d array was expected. Please change the shape of y to (n_samples,), for example using ravel().\n",
            "  This is separate from the ipykernel package so we can avoid doing imports until\n"
          ],
          "name": "stderr"
        },
        {
          "output_type": "execute_result",
          "data": {
            "text/plain": [
              "RandomForestRegressor(bootstrap=True, ccp_alpha=0.0, criterion='mse',\n",
              "                      max_depth=None, max_features='auto', max_leaf_nodes=None,\n",
              "                      max_samples=None, min_impurity_decrease=0.0,\n",
              "                      min_impurity_split=None, min_samples_leaf=1,\n",
              "                      min_samples_split=2, min_weight_fraction_leaf=0.0,\n",
              "                      n_estimators=10, n_jobs=None, oob_score=False,\n",
              "                      random_state=1, verbose=0, warm_start=False)"
            ]
          },
          "metadata": {
            "tags": []
          },
          "execution_count": 260
        }
      ]
    },
    {
      "cell_type": "markdown",
      "metadata": {
        "id": "ch0qsFuQHjcU",
        "colab_type": "text"
      },
      "source": [
        "**5. Training using Support Vector Regressor**"
      ]
    },
    {
      "cell_type": "code",
      "metadata": {
        "id": "lb7ztZN7Hjsa",
        "colab_type": "code",
        "colab": {
          "base_uri": "https://localhost:8080/",
          "height": 105
        },
        "outputId": "8ae5ae3a-1e74-4ce3-a21f-42678e9f968a"
      },
      "source": [
        "from sklearn.svm import SVR\n",
        "regressor5 = SVR(kernel='rbf')\n",
        "regressor5.fit(X_train_fs,y_train_fs)"
      ],
      "execution_count": 261,
      "outputs": [
        {
          "output_type": "stream",
          "text": [
            "/usr/local/lib/python3.6/dist-packages/sklearn/utils/validation.py:760: DataConversionWarning: A column-vector y was passed when a 1d array was expected. Please change the shape of y to (n_samples, ), for example using ravel().\n",
            "  y = column_or_1d(y, warn=True)\n"
          ],
          "name": "stderr"
        },
        {
          "output_type": "execute_result",
          "data": {
            "text/plain": [
              "SVR(C=1.0, cache_size=200, coef0=0.0, degree=3, epsilon=0.1, gamma='scale',\n",
              "    kernel='rbf', max_iter=-1, shrinking=True, tol=0.001, verbose=False)"
            ]
          },
          "metadata": {
            "tags": []
          },
          "execution_count": 261
        }
      ]
    },
    {
      "cell_type": "markdown",
      "metadata": {
        "id": "ocGwmCC_5O4P",
        "colab_type": "text"
      },
      "source": [
        "##**Testing above models**"
      ]
    },
    {
      "cell_type": "markdown",
      "metadata": {
        "id": "MCfZOVe75Pkl",
        "colab_type": "text"
      },
      "source": [
        "**1. Testing using Multi Linear Regression**"
      ]
    },
    {
      "cell_type": "code",
      "metadata": {
        "id": "hOPXMcf27Kdy",
        "colab_type": "code",
        "colab": {}
      },
      "source": [
        "y_pred1 = regressor1.predict(X_test)"
      ],
      "execution_count": 0,
      "outputs": []
    },
    {
      "cell_type": "markdown",
      "metadata": {
        "id": "18xSTJ5l5Pp1",
        "colab_type": "text"
      },
      "source": [
        "**2. Testing using Polynomial Regression**"
      ]
    },
    {
      "cell_type": "code",
      "metadata": {
        "id": "FEnwtRIA7MWg",
        "colab_type": "code",
        "colab": {}
      },
      "source": [
        "# y_pred2 = regressor2.predict(plr.fit_transform(X_test))"
      ],
      "execution_count": 0,
      "outputs": []
    },
    {
      "cell_type": "markdown",
      "metadata": {
        "id": "i6l1P7MD5PvK",
        "colab_type": "text"
      },
      "source": [
        "**3. Testing using Decision Tree Regression**"
      ]
    },
    {
      "cell_type": "code",
      "metadata": {
        "id": "QCzJ66Vj7Nxm",
        "colab_type": "code",
        "colab": {}
      },
      "source": [
        "y_pred3 = regressor3.predict(X_test)"
      ],
      "execution_count": 0,
      "outputs": []
    },
    {
      "cell_type": "markdown",
      "metadata": {
        "id": "tec0Eb6t5P17",
        "colab_type": "text"
      },
      "source": [
        "**4. Testing using Random Forest Regression**"
      ]
    },
    {
      "cell_type": "code",
      "metadata": {
        "id": "tU1-Go_J7Oyy",
        "colab_type": "code",
        "colab": {}
      },
      "source": [
        "y_pred4 = regressor4.predict(X_test)"
      ],
      "execution_count": 0,
      "outputs": []
    },
    {
      "cell_type": "markdown",
      "metadata": {
        "id": "Cz1UkHjTH4QQ",
        "colab_type": "text"
      },
      "source": [
        "**5. Testing using Support Vector Regression**"
      ]
    },
    {
      "cell_type": "code",
      "metadata": {
        "id": "QSSMxyvkH4d5",
        "colab_type": "code",
        "colab": {}
      },
      "source": [
        "y_pred5 = regressor5.predict(X_test_fs)"
      ],
      "execution_count": 0,
      "outputs": []
    },
    {
      "cell_type": "markdown",
      "metadata": {
        "id": "nWp3VftN5_-g",
        "colab_type": "text"
      },
      "source": [
        "##**Evaluating each model using R-squared test**"
      ]
    },
    {
      "cell_type": "code",
      "metadata": {
        "id": "LAl_FUH17kak",
        "colab_type": "code",
        "colab": {}
      },
      "source": [
        "from sklearn.metrics import r2_score"
      ],
      "execution_count": 0,
      "outputs": []
    },
    {
      "cell_type": "markdown",
      "metadata": {
        "id": "6pnRqKV_6AFI",
        "colab_type": "text"
      },
      "source": [
        "**1. Evaluating the Multi Linear Regression**"
      ]
    },
    {
      "cell_type": "code",
      "metadata": {
        "id": "RkwtOVcS7gdB",
        "colab_type": "code",
        "colab": {
          "base_uri": "https://localhost:8080/",
          "height": 34
        },
        "outputId": "5f831466-1c38-4489-d5c9-d923322c2e72"
      },
      "source": [
        "r2_score(y_test, y_pred1)"
      ],
      "execution_count": 268,
      "outputs": [
        {
          "output_type": "execute_result",
          "data": {
            "text/plain": [
              "0.5815222543692613"
            ]
          },
          "metadata": {
            "tags": []
          },
          "execution_count": 268
        }
      ]
    },
    {
      "cell_type": "markdown",
      "metadata": {
        "id": "t7fgT2VE6ANg",
        "colab_type": "text"
      },
      "source": [
        "**2. Evaluating the Polynomial Regression**"
      ]
    },
    {
      "cell_type": "code",
      "metadata": {
        "id": "aWFldpGa7hGp",
        "colab_type": "code",
        "colab": {}
      },
      "source": [
        "# r2_score(y_test, y_pred2)"
      ],
      "execution_count": 0,
      "outputs": []
    },
    {
      "cell_type": "markdown",
      "metadata": {
        "id": "7IcN_lWV6AXs",
        "colab_type": "text"
      },
      "source": [
        "**3. Evaluating the Decision Tree Regression**"
      ]
    },
    {
      "cell_type": "code",
      "metadata": {
        "id": "7fkoY49_7iU8",
        "colab_type": "code",
        "colab": {
          "base_uri": "https://localhost:8080/",
          "height": 34
        },
        "outputId": "78b91a3f-50fe-439e-ff4f-a18ebece308e"
      },
      "source": [
        "r2_score(y_test, y_pred3)"
      ],
      "execution_count": 270,
      "outputs": [
        {
          "output_type": "execute_result",
          "data": {
            "text/plain": [
              "0.7725634618646722"
            ]
          },
          "metadata": {
            "tags": []
          },
          "execution_count": 270
        }
      ]
    },
    {
      "cell_type": "markdown",
      "metadata": {
        "id": "QT18DMhG65vg",
        "colab_type": "text"
      },
      "source": [
        "**4. Evaluating the Random Forest Regression**"
      ]
    },
    {
      "cell_type": "code",
      "metadata": {
        "id": "6oN5Py5K7jSK",
        "colab_type": "code",
        "colab": {
          "base_uri": "https://localhost:8080/",
          "height": 34
        },
        "outputId": "40986386-d173-447d-9e40-1e56aa1f5482"
      },
      "source": [
        "r2_score(y_test, y_pred4)"
      ],
      "execution_count": 271,
      "outputs": [
        {
          "output_type": "execute_result",
          "data": {
            "text/plain": [
              "0.8346358445140396"
            ]
          },
          "metadata": {
            "tags": []
          },
          "execution_count": 271
        }
      ]
    },
    {
      "cell_type": "markdown",
      "metadata": {
        "id": "_NmbwzNSIAPo",
        "colab_type": "text"
      },
      "source": [
        "**5. Evaluating the Support Vector Regression**"
      ]
    },
    {
      "cell_type": "code",
      "metadata": {
        "id": "trDwlJaqIAgA",
        "colab_type": "code",
        "colab": {
          "base_uri": "https://localhost:8080/",
          "height": 34
        },
        "outputId": "77ab1789-375c-46e7-afde-e674a565b883"
      },
      "source": [
        "r2_score(y_test_fs, y_pred5)"
      ],
      "execution_count": 272,
      "outputs": [
        {
          "output_type": "execute_result",
          "data": {
            "text/plain": [
              "0.6778851733205491"
            ]
          },
          "metadata": {
            "tags": []
          },
          "execution_count": 272
        }
      ]
    },
    {
      "cell_type": "markdown",
      "metadata": {
        "id": "yW-r-cVc68qk",
        "colab_type": "text"
      },
      "source": [
        "##**Predicting the prices using the Best Model**"
      ]
    },
    {
      "cell_type": "code",
      "metadata": {
        "id": "RG_t3rC02aQO",
        "colab_type": "code",
        "colab": {
          "base_uri": "https://localhost:8080/",
          "height": 51
        },
        "outputId": "491d13bb-f831-4d22-c253-14db2b893c03"
      },
      "source": [
        "#we are using Random Forest Regressor as it gave better results\n",
        "\n",
        "nulls = pd.DataFrame(test_total.isnull().sum().sort_values(ascending=False).head())\n",
        "test_total.dropna(inplace=True)\n",
        "y_pred = regressor4.predict(test_total)\n",
        "print(y_pred[:10])\n"
      ],
      "execution_count": 273,
      "outputs": [
        {
          "output_type": "stream",
          "text": [
            "[326895.4 328925.3 319030.  343388.1 314232.6 304630.  304180.  315630.\n",
            " 317495.4 326895.4]\n"
          ],
          "name": "stdout"
        }
      ]
    }
  ]
}